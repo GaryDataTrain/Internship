{
 "cells": [
  {
   "cell_type": "code",
   "execution_count": null,
   "id": "40faaf1b",
   "metadata": {},
   "outputs": [],
   "source": [
    "##### re.match(pattern, string): This function attempts to match the pattern at the beginning of the string. It returns a match object if the pattern is found, or None if not.\n",
    "\n",
    "##### re.search(pattern, string): This function scans the entire string and returns a match object if the pattern is found anywhere in the string.\n",
    "\n",
    "##### re.findall(pattern, string): This function finds all occurrences of the pattern in the string and returns them as a list of strings.\n",
    "\n",
    "##### re.sub(pattern, replacement, string): This function replaces occurrences of the pattern in the string with the replacement string.\n",
    "\n",
    "##### re.compile(pattern): This function compiles a regular expression pattern into a regex object, which can be used for matching multiple strings.\n",
    "\n",
    "##### re.split(pattern, string): Splits the string based on the pattern. "
   ]
  },
  {
   "cell_type": "markdown",
   "id": "52a836e7",
   "metadata": {},
   "source": [
    "# Gary Hickey - Regular Expressions Assignment"
   ]
  },
  {
   "cell_type": "code",
   "execution_count": null,
   "id": "c6da10f8",
   "metadata": {},
   "outputs": [],
   "source": [
    "## 3.\tMetacharacters:\n",
    "#### o\tMetacharacters have special meanings in regex patterns:\n",
    "#### \t.: Matches any character except a newline.\n",
    "#### \t^: Matches the start of a string.\n",
    "#### \t$: Matches the end of a string.\n",
    "#### \t*: Matches zero or more occurrences of the preceding expression.\n",
    "#### \t+: Matches one or more occurrences of the preceding expression.\n",
    "#### \t?: Matches zero or one occurrence of the preceding expression.\n",
    "#### \t{}: Specifies exact repetition (e.g., {2} for exactly two occurrences).\n",
    "#### \t[]: Defines a set of characters (e.g., [a-m] matches any letter from ‘a’ to ‘m’).\n",
    "#### |: tries to match the pattern on the left side of the |, and if that fails, it tries to match the pattern on the right side."
   ]
  },
  {
   "cell_type": "markdown",
   "id": "6354ba15",
   "metadata": {},
   "source": [
    "## Question 1- Write a Python program to replace all occurrences of a space, comma, or dot with a colon."
   ]
  },
  {
   "cell_type": "code",
   "execution_count": 279,
   "id": "36f41d77",
   "metadata": {},
   "outputs": [
    {
     "name": "stdout",
     "output_type": "stream",
     "text": [
      "Python:Exercises::PHP:exercises:\n"
     ]
    }
   ],
   "source": [
    "import re\n",
    "# create function to replacement space/,/. with a colon\n",
    "def replace_all_occurences_of_space_comma_dot_with_colon(s):\n",
    "# establish pattern - look within string to search for whitespace( ) comma(,) dot(.)  \n",
    "    pattern1 = r'[ ,.]'\n",
    "#use replacement variable to insert colon(:) where pattern finds [ ,.]\n",
    "    replacement = ':' \n",
    "    # using substitute to call pattern1 finding and then replace characters using function (s),\n",
    "    # (replacement) and (function)\n",
    "    return re.sub(pattern1, replacement, s) \n",
    "\n",
    "# create variable with string containing characters to be replaced\n",
    "string1 = 'Python Exercises, PHP exercises.'\n",
    "# create result variable to perform function on string1 variable (s)\n",
    "result = replace_all_occurences_of_space_comma_dot_with_colon(string1)\n",
    "print(result)\n"
   ]
  },
  {
   "cell_type": "code",
   "execution_count": null,
   "id": "45f87392",
   "metadata": {},
   "outputs": [],
   "source": [
    "## Regular expressions (regex) are patterns used to match character combinations in strings. Here are some common regex expressions:\n",
    "\n",
    "\\d - Matches any digit.\n",
    "\\w - Matches any word character (alphanumeric character plus underscore).\n",
    "\\s - Matches any whitespace character.\n",
    ". - Matches any single character except newline.\n",
    "\\b - Matches a word boundary.\n",
    "^ - Matches the start of a string.\n",
    "$ - Matches the end of a string.\n",
    "[] - Matches any one of the characters inside the brackets.\n",
    "[^] - Matches any character not inside the brackets.\n",
    "** - Escapes a special character to be treated as a literal.\n",
    "\n",
    "o\tSpecial sequences start with a backslash (\\) and have specific meanings:\n",
    "\t\\d: Matches any digit (0-9).\n",
    "\t\\D: Matches any non-digit character.\n",
    "\t\\s: Matches any whitespace character.\n",
    "\t\\S: Matches any non-whitespace character.\n",
    "\t\\w: Matches any word character (letters, digits, underscore).\n",
    "\t\\W: Matches any non-word character.\n",
    "\t\\b: Matches word boundaries.\n",
    "    \\B: Matches characters are present but not at the beginning of the word\n",
    "\t\\A: Matches the start of the string.\n",
    "\t\\Z: Matches the end of the string\n",
    "\n"
   ]
  },
  {
   "cell_type": "markdown",
   "id": "a78a4018",
   "metadata": {},
   "source": [
    "## Question 2 Create a dataframe using the dictionary below and remove everything (commas (,), !, XXXX, ;,etc.) from the columns except words."
   ]
  },
  {
   "cell_type": "code",
   "execution_count": 292,
   "id": "6ca0cb06",
   "metadata": {},
   "outputs": [
    {
     "name": "stdout",
     "output_type": "stream",
     "text": [
      "         SUMMARY\n",
      "0    hello world\n",
      "1           test\n",
      "2  four five six\n"
     ]
    }
   ],
   "source": [
    "# for this we need a DataFrame\n",
    "import pandas as pd\n",
    "import re\n",
    "# now for a variable for the dictionary data\n",
    "data = {'SUMMARY': ['hello, world!', 'XXXX test', '123four, five:; six...']}\n",
    "\n",
    "# create another variable for the DataFrame\n",
    "Dictionary_with_removed_items = pd.DataFrame(data)\n",
    "\n",
    "# create a function with pattern to remove any non-word characters\n",
    "def remove_any_non_words(symbols):\n",
    "   \n",
    "    # return substitute \\W+' finds all non-word characters and replaces them with  this ' ', \n",
    "    # symbols.replace looks for XXXX and replaces it with ' '.\n",
    "    # symbols replace 123 with ' '\n",
    "    symbols = re.sub(r'\\W+', ' ', symbols)  \n",
    "    symbols = symbols.replace('XXXX', '') # i can't find a way of using \\w or \\d\n",
    "    symbols = symbols.replace('123', '')  # Remove '123'\n",
    "    # strip removes the whitespace characters before and after from string\n",
    "    return symbols.strip() \n",
    "\n",
    "\n",
    "# using the dataframe variable Dictionary_with_removed_items['SUMMARY'] to use apply method with the \n",
    "# function remove_any_non_words to the column SUMMARY\n",
    "Dictionary_with_removed_items['SUMMARY'] = Dictionary_with_removed_items['SUMMARY'].apply(remove_any_non_words)\n",
    "\n",
    "# Prints the variable Dictionary_with_removed_items to see the table\n",
    "print (Dictionary_with_removed_items)\n",
    "# might come back to this"
   ]
  },
  {
   "cell_type": "code",
   "execution_count": 284,
   "id": "50b90956",
   "metadata": {},
   "outputs": [
    {
     "name": "stdout",
     "output_type": "stream",
     "text": [
      "                              A                    B\n",
      "0                   Hello World    1234 Numbers 5678\n",
      "1                   How are you  Special  Characters\n",
      "2  XXXX Remove these characters      Keep words only\n"
     ]
    }
   ],
   "source": [
    "import pandas as pd\n",
    "import re\n",
    "\n",
    "# Sample dictionary\n",
    "data = {\n",
    "    'A': ['Hello, World!', 'How are you?', 'XXXX Remove, these; characters!'],\n",
    "    'B': ['1234 Numbers 5678', 'Special @#$ Characters', 'Keep words only']\n",
    "}\n",
    "\n",
    "# Create a DataFrame from the dictionary\n",
    "df = pd.DataFrame(data)\n",
    "\n",
    "# Remove everything except words from all columns using regular expressions\n",
    "df = df.replace(r'[^\\w\\s]', '', regex=True)\n",
    "\n",
    "# Display the modified DataFrame\n",
    "print(df)"
   ]
  },
  {
   "cell_type": "markdown",
   "id": "e00e748a",
   "metadata": {},
   "source": [
    "## Question 3- Create a function in python to find all words that are at least 4 characters long in a string. The use of the re.compile() method is mandatory"
   ]
  },
  {
   "cell_type": "code",
   "execution_count": 3,
   "id": "fce80d35",
   "metadata": {
    "scrolled": true
   },
   "outputs": [
    {
     "name": "stdout",
     "output_type": "stream",
     "text": [
      "These words are a minimum of 4 letters ['lion', 'scary', 'animal', 'Also', 'there', 'elephant', 'enormous', 'Then', 'monkey', 'started', 'howl']\n"
     ]
    }
   ],
   "source": [
    "import re\n",
    "#create a function and use(text) to call it\n",
    "def find_words_that_are_more_than_4_characters(text):\n",
    "# use compile to replace patterns in multiple strings, make the boundary with \\b to stop and\n",
    "# start a word search for words 4 letters long or more using \\w{4,}. Apply findall to look for pattern\n",
    "# and compile to replace the words.\n",
    "    pattern11 = re.compile(r'\\b\\w{4,}\\b') \n",
    "    return pattern11.findall(text)  \n",
    "\n",
    "# Test the function with some sample string variables\n",
    "sample_text1 = \"One day I saw a lion at the zoo, it was a scary animal.\"\n",
    "sample_text2 = \"Also, there was an elephant; it was enormous.\"\n",
    "sample_text3 = \"Then a monkey started to howl\"\n",
    "#create variable to check function, and here i have concatenated the strings\n",
    "long_words = find_words_that_are_more_than_4_characters(sample_text1 + \" \" + sample_text2 + sample_text3)\n",
    "#use print to display the result of the function used on the variable longwords\n",
    "print (\"These words are a minimum of 4 letters\", long_words)"
   ]
  },
  {
   "cell_type": "markdown",
   "id": "8f9c5ab3",
   "metadata": {},
   "source": [
    "## Question 4- Create a function in python to find all three, four, and five character words in a string. The use of the re.compile() method is mandatory."
   ]
  },
  {
   "cell_type": "code",
   "execution_count": 4,
   "id": "74c26303",
   "metadata": {},
   "outputs": [
    {
     "name": "stdout",
     "output_type": "stream",
     "text": [
      "['There', 'are', 'many', 'the', 'world', 'such', 'Hindu', 'they', 'all', 'like', 'God', 'There', 'are', 'many', 'and', 'many', 'the']\n"
     ]
    }
   ],
   "source": [
    "import re\n",
    "# create function to find words between 3-5 letters long\n",
    "def find_all_3_4_5_character_words(text):\n",
    "# create a pattern using .compile and use \\b to \n",
    "# establish the start and end of a word, \n",
    "# and 3,5 to search for words 3-5 characters long \n",
    "    \n",
    "    pattern12 = re.compile(r'\\b\\w{3,5}\\b')\n",
    "# finish function\n",
    "    return pattern12.findall(text)\n",
    "# create a paragraph of text\n",
    "sample_text = \"There are many different religions in the world, such as Hindu, Muslim, Christianity, Buddhism, they all worship something like God. There are many beliefs globally and many people believe in the afterlife.\"\n",
    "# create a variable to check output of text with function\n",
    "letter_words = find_all_3_4_5_character_words(sample_text)\n",
    "# print ouput\n",
    "print(letter_words)"
   ]
  },
  {
   "cell_type": "markdown",
   "id": "ca107b63",
   "metadata": {},
   "source": [
    "## Question 5- Create a function in Python to remove the parenthesis in a list of strings. The use of the re.compile() method is mandatory.\n",
    "\n",
    "#### Sample Text: [\"example (.com)\", \"hr@fliprobo (.com)\", \"github (.com)\", \"Hello (Data Science World)\", \"Data (Scientist)\"]\n",
    "\n",
    "#### Expected Output:\n",
    "#### example.com\n",
    "#### hr@fliprobo.com\n",
    "#### github.com\n",
    "#### Hello Data Science World\n"
   ]
  },
  {
   "cell_type": "code",
   "execution_count": 314,
   "id": "ea8f3b69",
   "metadata": {},
   "outputs": [
    {
     "name": "stdout",
     "output_type": "stream",
     "text": [
      "example.com\n",
      "hr@fliprobo.com\n",
      "github.com\n",
      "Hello Data Science World\n",
      "Data Scientist\n"
     ]
    }
   ],
   "source": [
    "# create the function(i found this very difficult), \n",
    "# using compile to remove parenthesis from all words in the list, then making\n",
    "# for loop for to include spaces between word capitals, and then the remove \n",
    "# unneccessary spaces before capitals.\n",
    "# the pattern looks for white spaces \\s* and then \\( looks for the opening parenthesis, \n",
    "# \\s* looks for more whitespace characters. Then | looks before and after on both sides of a substring,\n",
    "# \\s* any whitespace, then \\) closing parenthesis, then \\s*\" looks for \"\" to get string ready\n",
    "def remove_parentheses(strings):\n",
    "    pattern = re.compile(r\"\\s*\\(\\s*|\\s*\\)\\s*\")\n",
    "    # now for a loop using subsitute pattern with \"\"\n",
    "    # insert a space before Capitals\n",
    "    # normalise spacing\n",
    "    for i in range(len(strings)):\n",
    "        strings[i] = re.sub(pattern, \"\", strings[i])\n",
    "        strings[i] = add_spaces_before_capitals(strings[i])  # Add spaces before capitals\n",
    "        strings[i] = adjust_spacing(strings[i])  # Normalize spacing\n",
    "        \n",
    "    return strings\n",
    "# now the strings are compiled we need to tidy up the string spaces\n",
    "\n",
    "# using substitute to look for capitals in a string include and then organising the string by inserting\n",
    "# space\n",
    "def add_spaces_before_capitals(input_string):\n",
    "    return re.sub(r'([A-Z])', r' \\1', input_string)\n",
    "\n",
    "# finally using this function to remove the space from the beginning of the \n",
    "# word with a capital letter\n",
    "def adjust_spacing(input_string):\n",
    "    # insert a space using ' ' and the join command links the words while split ensures the spacing is \n",
    "    # normalised\n",
    "    \n",
    "    return ' '.join(input_string.split())\n",
    "\n",
    "# Sample text \n",
    "sample_text = [\"example (.com)\", \"hr@fliprobo (.com)\", \"github (.com)\", \"Hello (Data Science World)\", \"Data (Scientist)\"]\n",
    "\n",
    "# make the output variable, Call the function above and combine with (sample_text) to nearly finish\n",
    "output = remove_parentheses(sample_text)\n",
    "\n",
    "# Finally a loop to display the output of the values of all the \n",
    "# string data with corrections\n",
    "for text in output:\n",
    "    print(text)"
   ]
  },
  {
   "cell_type": "code",
   "execution_count": 306,
   "id": "1b1c405c",
   "metadata": {},
   "outputs": [
    {
     "name": "stdout",
     "output_type": "stream",
     "text": [
      "example.com\n",
      "hr@fliprobo.com\n",
      "github.com\n",
      "Hello Data Science World\n",
      "Data Scientist\n"
     ]
    }
   ],
   "source": [
    "# create the function(i found this very difficult), \n",
    "# using compile to remove parenthesis from all words in the list, then making\n",
    "# for loop for to include spaces between word capitals, and then the remove \n",
    "# unneccessary spaces before capitals.\n",
    "# the pattern looks for white spaces \\s* and then \\( looks for the opening parenthesis, \n",
    "# \\s* looks for more whitespace characters. Then | looks before and after on both sides of a substring,\n",
    "# \\s* any whitespace, then \\) closing parenthesis, then \\s*\" looks for \"\" to get string ready\n",
    "def remove_parentheses(strings):\n",
    "    pattern = re.compile(r\"\\s*\\(\\s*|\\s*\\)\\s*\")\n",
    "    # now for a loop using subsitute pattern with \"\"\n",
    "    # insert a space before Capitals\n",
    "    # normalise spacing\n",
    "    for i in range(len(strings)):\n",
    "        strings[i] = re.sub(pattern, \"\", strings[i])\n",
    "        strings[i] = add_spaces_before_capitals(strings[i])\n",
    "        strings[i] = adjust_spacing(strings[i])\n",
    "        \n",
    "    return strings\n",
    "# now the strings are a variable \n",
    "\n",
    "\n",
    "# Sample text list\n",
    "sample_text = [\"example (.com)\", \"hr@fliprobo (.com)\", \"github (.com)\", \"Hello (Data Science World)\", \"Data (Scientist)\"]\n",
    "\n",
    "# Call the function above and combine with (sample_text) to nearly finish\n",
    "output = remove_parentheses(sample_text)\n",
    "\n",
    "# Finally a loop to display the output of the values of all the \n",
    "# strings data with all corrections\n",
    "for text in output:\n",
    "    print(text)"
   ]
  },
  {
   "cell_type": "markdown",
   "id": "a20e7951",
   "metadata": {},
   "source": [
    "## Question 6 - Write a python program to remove the parenthesis area from the text stored in the text file using Regular Expressions.\n",
    "#### Sample Text: [\"example (.com)\", \"hr@fliprobo (.com)\", \"github (.com)\", \"Hello (Data Science World)\", \"Data (Scientist)\"]\n",
    "#### Expected Output: [\"example\", \"hr@fliprobo\", \"github\", \"Hello\", \"Data\"]\n",
    "#### Note- Store given sample text in the text file and then to remove the parenthesis area from the text."
   ]
  },
  {
   "cell_type": "code",
   "execution_count": 8,
   "id": "42ddf50c",
   "metadata": {},
   "outputs": [
    {
     "name": "stdout",
     "output_type": "stream",
     "text": [
      "[\"example\", \"hr@fliprobo\", \"github\", \"Hello\", \"Data\"]\n",
      "\n",
      "\n",
      "\n"
     ]
    }
   ],
   "source": [
    "# Read the text from the file with open, as file to safely close, create the variable\n",
    "import re\n",
    "\n",
    "with open(r\"C:\\Users\\GaryM\\Documents\\sample_text.txt\", 'r')as file:\n",
    "    text = file.read()\n",
    "\n",
    "# create pattern variable to compile words in sampletext file. Use space followed \n",
    "# by opening parenthesis to match and remove characters within parenthesis [^)]* \n",
    "# to select any characters, \\) to mark end parenthesis. \n",
    "pattern26 = re.compile(r\" \\([^)]*\\)\")\n",
    "\n",
    "# Create variable to use compile pattern26 with substitute to perform \n",
    "# string pattern within \"\" for the new string \n",
    "compiled_substituted_text = re.sub(pattern26, \"\", text)\n",
    "\n",
    "\n",
    "\n",
    "# Display the modified text\n",
    "print(compiled_substituted_text)"
   ]
  },
  {
   "cell_type": "markdown",
   "id": "43a05267",
   "metadata": {},
   "source": [
    "## Question 7- Write a regular expression in Python to split a string into uppercase letters.\n",
    "### Sample text: “ImportanceOfRegularExpressionsInPython”\n",
    "### Expected Output: [‘Importance’, ‘Of’, ‘Regular’, ‘Expression’, ‘In’, ‘Python’]\n"
   ]
  },
  {
   "cell_type": "code",
   "execution_count": 322,
   "id": "dc2eda02",
   "metadata": {},
   "outputs": [
    {
     "name": "stdout",
     "output_type": "stream",
     "text": [
      "['Importance', 'Of', 'Regular', 'Expressions', 'In', 'Python']\n"
     ]
    }
   ],
   "source": [
    "# create variable for joined text\n",
    "sample_text7 = \"ImportanceOfRegularExpressionsInPython\"\n",
    "\n",
    "\n",
    "# [defines what to look for - here capital A to Z][^A-Z] looks for any letters that are not capitals\n",
    "# mtaching the start of a string. This captures words and then divides them using * to match a \n",
    "# whitespace character   \n",
    " \n",
    "result7 = re.findall('[A-Z][^A-Z]*', sample_text7)\n",
    "\n",
    "print(result7)"
   ]
  },
  {
   "cell_type": "markdown",
   "id": "cb8321c0",
   "metadata": {},
   "source": [
    "## Question 8- Create a function in python to insert spaces between words starting with numbers.\n",
    "#### Sample Text: “RegularExpression1IsAn2ImportantTopic3InPython\"\n",
    "#### Expected Output: RegularExpression 1IsAn 2ImportantTopic 3InPython\n"
   ]
  },
  {
   "cell_type": "code",
   "execution_count": 11,
   "id": "4357a259",
   "metadata": {},
   "outputs": [
    {
     "name": "stdout",
     "output_type": "stream",
     "text": [
      "RegularExpression 1IsAn 2ImportantTopic 3InPython\n"
     ]
    }
   ],
   "source": [
    "import re\n",
    "# create a function to insert spaces, then create a pattern to insert spaces\n",
    "# before numbers .sub replaces the string with the pattern. \\d captures the\n",
    "# the digit ([A-Za-z matches an uppercase and lowercase letter]) - \n",
    "# ' \\1 matches the number with a space'\n",
    "\n",
    "def insert_spaces(text):\n",
    "    return re.sub(r'(\\d)([A-Za-z])', r' \\1\\2', text)\n",
    "\n",
    "# Sample text to apply pattern to\n",
    "sample_text = \"RegularExpression1IsAn2ImportantTopic3InPython\"\n",
    "\n",
    "# use the function with the sample text\n",
    "output = insert_spaces(sample_text)\n",
    "print(output)"
   ]
  },
  {
   "cell_type": "markdown",
   "id": "dc032d88",
   "metadata": {},
   "source": [
    "## Question 9- Create a function in python to insert spaces between words starting with capital letters or with numbers.\n",
    "#### Sample Text: “RegularExpression1IsAn2ImportantTopic3InPython\"\n",
    "#### Expected Output:  RegularExpression 1 IsAn 2 ImportantTopic 3 InPython\n"
   ]
  },
  {
   "cell_type": "code",
   "execution_count": 323,
   "id": "2ab830c4",
   "metadata": {},
   "outputs": [
    {
     "name": "stdout",
     "output_type": "stream",
     "text": [
      "RegularExpression 1 IsAn 2 ImportantTopic 3 InPython\n"
     ]
    }
   ],
   "source": [
    "# create a function with a pattern, .sub will replace substring with new string.\n",
    "# the pattern captures a digit (\\d), then matches a lower case letter with upper \n",
    "# case letter ([A-Za-z]). then r'  makes a space before the number, and \\1 puts a space after \n",
    "# the number and \\2 puts a space after a letter\n",
    "\n",
    "def insert_spaces(text):\n",
    "    return re.sub(r'(\\d)([A-Za-z])', r' \\1 \\2', text)\n",
    "\n",
    "# Sample text to apply pattern to\n",
    "sample_text = \"RegularExpression1IsAn2ImportantTopic3InPython\"\n",
    "\n",
    "# Call the function with the sample text\n",
    "output = insert_spaces(sample_text)\n",
    "print(output)"
   ]
  },
  {
   "cell_type": "markdown",
   "id": "7d93ec75",
   "metadata": {},
   "source": [
    "## Question 10- Use the github link below to read the data and create a dataframe. \n",
    "#### After creating the dataframe extract the first 6 letters of each country and store in the dataframe under a new column called first_five_letters.\n",
    "#### Github Link-  https://raw.githubusercontent.com/dsrscientist/DSData/master/happiness_score_dataset.csv\n",
    "\n"
   ]
  },
  {
   "cell_type": "code",
   "execution_count": 13,
   "id": "e979a608",
   "metadata": {},
   "outputs": [
    {
     "name": "stdout",
     "output_type": "stream",
     "text": [
      "         Country                           Region  Happiness Rank  \\\n",
      "0    Switzerland                   Western Europe               1   \n",
      "1        Iceland                   Western Europe               2   \n",
      "2        Denmark                   Western Europe               3   \n",
      "3         Norway                   Western Europe               4   \n",
      "4         Canada                    North America               5   \n",
      "..           ...                              ...             ...   \n",
      "153       Rwanda               Sub-Saharan Africa             154   \n",
      "154        Benin               Sub-Saharan Africa             155   \n",
      "155        Syria  Middle East and Northern Africa             156   \n",
      "156      Burundi               Sub-Saharan Africa             157   \n",
      "157         Togo               Sub-Saharan Africa             158   \n",
      "\n",
      "     Happiness Score  Standard Error  Economy (GDP per Capita)   Family  \\\n",
      "0              7.587         0.03411                   1.39651  1.34951   \n",
      "1              7.561         0.04884                   1.30232  1.40223   \n",
      "2              7.527         0.03328                   1.32548  1.36058   \n",
      "3              7.522         0.03880                   1.45900  1.33095   \n",
      "4              7.427         0.03553                   1.32629  1.32261   \n",
      "..               ...             ...                       ...      ...   \n",
      "153            3.465         0.03464                   0.22208  0.77370   \n",
      "154            3.340         0.03656                   0.28665  0.35386   \n",
      "155            3.006         0.05015                   0.66320  0.47489   \n",
      "156            2.905         0.08658                   0.01530  0.41587   \n",
      "157            2.839         0.06727                   0.20868  0.13995   \n",
      "\n",
      "     Health (Life Expectancy)  Freedom  Trust (Government Corruption)  \\\n",
      "0                     0.94143  0.66557                        0.41978   \n",
      "1                     0.94784  0.62877                        0.14145   \n",
      "2                     0.87464  0.64938                        0.48357   \n",
      "3                     0.88521  0.66973                        0.36503   \n",
      "4                     0.90563  0.63297                        0.32957   \n",
      "..                        ...      ...                            ...   \n",
      "153                   0.42864  0.59201                        0.55191   \n",
      "154                   0.31910  0.48450                        0.08010   \n",
      "155                   0.72193  0.15684                        0.18906   \n",
      "156                   0.22396  0.11850                        0.10062   \n",
      "157                   0.28443  0.36453                        0.10731   \n",
      "\n",
      "     Generosity  Dystopia Residual first_five_letters  \n",
      "0       0.29678            2.51738             Switze  \n",
      "1       0.43630            2.70201             Icelan  \n",
      "2       0.34139            2.49204             Denmar  \n",
      "3       0.34699            2.46531             Norway  \n",
      "4       0.45811            2.45176             Canada  \n",
      "..          ...                ...                ...  \n",
      "153     0.22628            0.67042             Rwanda  \n",
      "154     0.18260            1.63328              Benin  \n",
      "155     0.47179            0.32858              Syria  \n",
      "156     0.19727            1.83302             Burund  \n",
      "157     0.16681            1.56726               Togo  \n",
      "\n",
      "[158 rows x 13 columns]\n"
     ]
    }
   ],
   "source": [
    "# create a DataFrame\n",
    "import pandas as pd\n",
    "import re\n",
    "# connect data from github \n",
    "github_link = \"https://raw.githubusercontent.com/dsrscientist/DSData/master/happiness_score_dataset.csv\"\n",
    "# create DataFrame variable    \n",
    "df = pd.read_csv(github_link) \n",
    "\n",
    "# look at the columns\n",
    "columns_list = df.columns.tolist()\n",
    "\n",
    "# add a new column called first five letters, create variable to store first 6\n",
    "# letters of each country, i am using str.slice to index the letters from 0\n",
    "df['first_five_letters'] = df['Country'].str.slice(0, 6)\n",
    "\n",
    "# Print the list of columns\n",
    "print(df)"
   ]
  },
  {
   "cell_type": "markdown",
   "id": "9f449127",
   "metadata": {},
   "source": [
    "## Question 11- Write a Python program to match a string that contains only upper and lowercase letters, numbers, and underscores."
   ]
  },
  {
   "cell_type": "code",
   "execution_count": 324,
   "id": "0e9eca5b",
   "metadata": {},
   "outputs": [
    {
     "name": "stdout",
     "output_type": "stream",
     "text": [
      "'lowercase' does not match the pattern.\n",
      "'UPPERCASE' does not match the pattern.\n",
      "'mixedCASE' does not match the pattern.\n",
      "'mixedCASE123' does not match the pattern.\n",
      "'mixedCASE_123' matches the pattern.\n",
      "'mixedCASE@' does not match the pattern.\n",
      "'mixedCASE@123' does not match the pattern.\n"
     ]
    }
   ],
   "source": [
    "# define a function - here to match a string containing both \n",
    "# upper and lowercase letters, also including numbers and underscores\n",
    "\n",
    "import re\n",
    "\n",
    "def matching_string(s):\n",
    "    # create a pattern that checks if the string matches. ^starts the string,\n",
    "    # using (?=.* makes the pattern check the string for multiple parameters,\n",
    "    # [A-Za-z]at least one upper and lower case,then (?=.*\\d for any digit,(?=.*_) for any\n",
    "    # underscore, [A-Za-z0-9_]+ checks the entire string for the captured patterns,\n",
    "    # +$' marks the end of the string.\n",
    "    # compile to use pattern into an object, .match checks the string against pattern\n",
    "    pattern = re.compile(r'^(?=.*[A-Za-z])(?=.*\\d)(?=.*_)[A-Za-z0-9_]+$')\n",
    "    return pattern.match(s) is not None\n",
    "\n",
    "# Test the function with different strings\n",
    "string_to_be_matched = [\n",
    "    \"lowercase\",\n",
    "    \"UPPERCASE\",\n",
    "    \"mixedCASE\",\n",
    "    \"mixedCASE123\",\n",
    "    \"mixedCASE_123\",\n",
    "    \"mixedCASE@\",\n",
    "    \"mixedCASE@123\",\n",
    "]\n",
    "\n",
    "# this loop checks over all the strings and prints a result compared with pattern\n",
    "for input_string in string_to_be_matched:\n",
    "    if matching_string(input_string):\n",
    "        print(f\"'{input_string}' matches the pattern.\")\n",
    "    else:\n",
    "        print(f\"'{input_string}' does not match the pattern.\")"
   ]
  },
  {
   "cell_type": "markdown",
   "id": "8f5ce7ec",
   "metadata": {},
   "source": [
    "## Question 12- Write a Python program where a string will start with a specific number. "
   ]
  },
  {
   "cell_type": "code",
   "execution_count": 330,
   "id": "5ecf30bf",
   "metadata": {},
   "outputs": [
    {
     "name": "stdout",
     "output_type": "stream",
     "text": [
      "111 starts with the number 111.\n",
      "1101 does not start with the number 111.\n"
     ]
    }
   ],
   "source": [
    "import re\n",
    "# create the function to start a string with  specific number()\n",
    "# regex pattern = ^ is to match at the beginning of the string, str converts (number) into \n",
    "# string. concatenates with '.*' to make the pattern match the number exactly prepares program to check for match,\n",
    "\n",
    "def starts_with_specific_number(string, number):\n",
    "    pattern = r'^' + str(number) + '.*'\n",
    "    if re.match(pattern, string):\n",
    "        return True\n",
    "    else:\n",
    "        return False\n",
    "\n",
    "# define 2 strings to check for specific number\n",
    "string1 = \"111\"\n",
    "string2 = \"1101\"\n",
    "number = 111\n",
    "\n",
    "# check two strings again with number defined in variable = number using \n",
    "# function to check, returning output with if else statements return true or false\n",
    "if starts_with_specific_number(string1, number):\n",
    "    print(f\"{string1} starts with the number {number}.\")\n",
    "else:\n",
    "    print(f\"{string1} does not start with the number {number}.\")\n",
    "\n",
    "if starts_with_specific_number(string2, number):\n",
    "    print(f\"{string2} starts with the number {number}.\")\n",
    "else:\n",
    "    print(f\"{string2} does not start with the number {number}.\")"
   ]
  },
  {
   "cell_type": "markdown",
   "id": "d311dd15",
   "metadata": {},
   "source": [
    "## Question 13- Write a Python program to remove leading zeros from an IP address"
   ]
  },
  {
   "cell_type": "code",
   "execution_count": 331,
   "id": "24b8a52f",
   "metadata": {},
   "outputs": [
    {
     "name": "stdout",
     "output_type": "stream",
     "text": [
      "30.1.3.14\n",
      "10.200.2.20\n"
     ]
    }
   ],
   "source": [
    "# create a function that can be used for ip addresses with\n",
    "# multiple zeros and remove the leading zero's.\n",
    "# .sub is used to substitute specified numbers in the pattern. \n",
    "# (^|.) to match the start of string or | after a dot, 0+ \n",
    "# matches 1 or more zero. (?=[^.]) this checks that a zero is \n",
    "# followed by a digit. r'\\ 1 is going to replace the leading 0's\n",
    "\n",
    "def remove_zeros_from_ip(ip_adr):\n",
    "    return re.sub(r'(^|\\.)0+(?=[^.])',r'\\1', ip_adr)\n",
    "\n",
    "# Example usage:\n",
    "ip1 = '030.001.003.014'\n",
    "ip2 = '010.200.002.020'\n",
    "print(remove_zeros_from_ip(ip1))  # Output: '10.0.1.10'\n",
    "print(remove_zeros_from_ip(ip2))  # Output: '10.0.2.20'"
   ]
  },
  {
   "cell_type": "markdown",
   "id": "4efc72b9",
   "metadata": {},
   "source": [
    "## Question 14- Write a regular expression in python to match a date string in the form of Month name followed by day number and year stored in a text file.\n",
    "#### Sample text :  ' On August 15th 1947 that India was declared independent from British colonialism, and the reins of control were handed over to the leaders of the Country’.\n",
    "#### Expected Output- August 15th 1947\n",
    "#### Note- Store given sample text in the text file and then extract the date string asked format.\n"
   ]
  },
  {
   "cell_type": "code",
   "execution_count": 17,
   "id": "45ba2146",
   "metadata": {},
   "outputs": [
    {
     "name": "stdout",
     "output_type": "stream",
     "text": [
      "Extracted date: August 15th 1947\n"
     ]
    }
   ],
   "source": [
    "# Read the sample text from the file saved as sample_text2.txt \n",
    "# with file path and file.read to look within the data\n",
    "with open(r\"C:\\Users\\GaryM\\Documents\\sample_text2.txt\") as file:\n",
    "    sample_text2 = file.read()\n",
    "\n",
    "# Create a regular expression pattern to match the date format, listing the months \n",
    "# of the year with a | to check both sides of the month name cycling through the \n",
    "# year. \\s\\d{1,2} then the pattern looks for a whitespace, followd by 1 or 2 digits\n",
    "# and then searches through the suffixes used to pronounce dates (st|nd|rd|th)\n",
    "# looks for another whitespace character \\s\\ and finally looks for 4 digits representing year d{4}\n",
    "date_pattern = r\"(January|February|March|April|May|June|July|August|September|October|November|December)\\s\\d{1,2}(st|nd|rd|th)\\s\\d{4}\"\n",
    "\n",
    "# using search to look for date pattern in sampletext2\n",
    "match = re.search(date_pattern, sample_text2)\n",
    "# finally a loop to see if pattern finds correct date formatted in sampletext2\n",
    "if match:\n",
    "    date_string = match.group()\n",
    "    print(f\"Extracted date: {date_string}\")\n",
    "else:\n",
    "    print(\"No date found in the specified format.\")"
   ]
  },
  {
   "cell_type": "markdown",
   "id": "4f1f33ea",
   "metadata": {},
   "source": [
    "## Question 15- Write a Python program to search some literals strings in a string. \n",
    "#### Sample text : 'The quick brown fox jumps over the lazy dog.'\n",
    "#### Searched words : 'fox', 'dog', 'horse'\n"
   ]
  },
  {
   "cell_type": "code",
   "execution_count": 337,
   "id": "e94e325b",
   "metadata": {},
   "outputs": [
    {
     "name": "stdout",
     "output_type": "stream",
     "text": [
      "\"fox\" found in the text.\n",
      "\"dog\" found in the text.\n",
      "\"horse\" not found in the text.\n"
     ]
    }
   ],
   "source": [
    "# how to search for literals strings in a string. First is the text. \n",
    "sample_text3 = 'The quick brown fox jumps over the lazy dog.'\n",
    "\n",
    "# create a variable with literals\n",
    "literal_string = ['fox', 'dog', 'horse']\n",
    "\n",
    "# create a loop to look in the string\n",
    "for word in literal_string:\n",
    "    # re.search looks for a specified pattern in string, r'\\b' \n",
    "    # is the boundary for the word being searched for \\b looks for the whole word.\n",
    "    # concatenates with escape to check for the exact words. Again \n",
    "    # checking for the whole word, with conditions to match or not match.\n",
    "    if re.search(r'\\b' + re.escape(word) + r'\\b', sample_text3):\n",
    "        print(f'\"{word}\" found in the text.')\n",
    "    else:\n",
    "        print(f'\"{word}\" not found in the text.')"
   ]
  },
  {
   "cell_type": "markdown",
   "id": "a7fd37f9",
   "metadata": {},
   "source": [
    "## Question 16- Write a Python program to search a literals string in a string and also find the location within the original string where the pattern occurs\n",
    "#### Sample text : 'The quick brown fox jumps over the lazy dog.'\n",
    "#### Searched words : 'fox'\n"
   ]
  },
  {
   "cell_type": "code",
   "execution_count": 19,
   "id": "19a99110",
   "metadata": {},
   "outputs": [
    {
     "name": "stdout",
     "output_type": "stream",
     "text": [
      "\"fox\" found in sample text at position 16-19.\n"
     ]
    }
   ],
   "source": [
    "# how to search for literals strings in a string. First is \n",
    "# the text. similar to question 15\n",
    "sample_text4 = 'The quick brown fox jumps over the lazy dog.'\n",
    "\n",
    "# looking for the word fox\n",
    "searched_word = 'fox'\n",
    "\n",
    "    #re.search looks for a specified pattern in string, r'\\b' \n",
    "    # is the boundary for the word being searched for \\b looks for the whole word.\n",
    "    # concatenates with escape look for the exact word in a string. \\b Again \n",
    "    # checking for the whole word, with conditions to match or not match.\n",
    "match = re.search(r'\\b' + re.escape(searched_word) + r'\\b', sample_text4)\n",
    "    # if searched_word is found the match.start() and .end() will slice the data\n",
    "    # to provide the index \n",
    "if match:\n",
    "    start_index = match.start()\n",
    "    end_index = match.end()\n",
    "    print(f'\"{searched_word}\" found in sample text at position {start_index}-{end_index}.')\n",
    "else:\n",
    "    print(f'\"{searched_word}\" not found in sample text.')"
   ]
  },
  {
   "cell_type": "markdown",
   "id": "fc0be879",
   "metadata": {},
   "source": [
    "## Question 17- Write a Python program to find the substrings within a string.\n",
    "#### Sample text : 'Python exercises, PHP exercises, C# exercises'\n",
    "#### Pattern : 'exercises'.\n"
   ]
  },
  {
   "cell_type": "code",
   "execution_count": 20,
   "id": "04ee06ce",
   "metadata": {},
   "outputs": [
    {
     "name": "stdout",
     "output_type": "stream",
     "text": [
      "\"exercises\" found at position 7-15.\n",
      "\"exercises\" found at position 22-30.\n",
      "\"exercises\" found at position 36-44.\n"
     ]
    }
   ],
   "source": [
    "\n",
    "import re\n",
    "# create a function to find substrings within a string, using re.finditer to look in string.\n",
    "# create a for loop to search for matches in a string, start and end to \n",
    "# calculate index of the pattern. \n",
    "# print searched pattern and indexing used in match\n",
    "def find_substrings_within_string(text17, pattern17):\n",
    "    matches = re.finditer(pattern17, text17)\n",
    "    for match in matches:\n",
    "            start = match.start()\n",
    "            end = match.end() - 1\n",
    "            print(f'\"{pattern17}\" found at position {start}-{end}.')\n",
    "#          \n",
    "# create variables to hold string data with pattern to be searched for\n",
    "\n",
    "text17 = 'Python exercises, PHP exercises, C# exercises'\n",
    "pattern17 = 'exercises'\n",
    "find_substrings_within_string(text17, pattern17)"
   ]
  },
  {
   "cell_type": "markdown",
   "id": "7953f589",
   "metadata": {},
   "source": [
    "## Question 18- Write a Python program to find the occurrence and position of the substrings within a string."
   ]
  },
  {
   "cell_type": "code",
   "execution_count": 21,
   "id": "bf871520",
   "metadata": {},
   "outputs": [
    {
     "name": "stdout",
     "output_type": "stream",
     "text": [
      "\"fishing\" found at position 19-25.\n",
      "\"fishing\" found at position 64-70.\n",
      "\"fishing\" found at position 143-149.\n",
      "Total occurrences of \"fishing\" found: 3\n"
     ]
    }
   ],
   "source": [
    "import re\n",
    "# create a function to look for the occurence and position of substring within a string.\n",
    "# use re.finditer to find occurences of a pattern(18) in a text(18, set variable count to\n",
    "# to 0 then use a loop to match.start and match.end to to report where the \n",
    "# pattern is found in a string. print results, finally count +1 to add occurences\n",
    "def find_substrings_with_occurence_and_position(text, pattern):\n",
    "    matches = re.finditer(pattern18, text18)\n",
    "    count = 0\n",
    "    for match in matches:\n",
    "        start = match.start()\n",
    "        end = match.end() - 1 # - 1 used to calculate ending index- {} are used to insert variables into the string.\n",
    "        print(f'\"{pattern18}\" found at position {start}-{end}.')\n",
    "        count += 1\n",
    "# after the loop print string with resulting variables\n",
    "        \n",
    "    print(f'Total occurrences of \"{pattern18}\" found: {count}')\n",
    "# create variable string containing multiple substring\n",
    "text18 ='on saturday i went fishing, at the lake there were other people fishing, i asked \"have  you caught any fish?\" They said \"no\" and they had been fishing since dawn.'\n",
    "pattern18 = 'fishing'\n",
    "# now the function is defined call the the string and pattern\n",
    "find_substrings_with_occurence_and_position(text18, pattern18)"
   ]
  },
  {
   "cell_type": "markdown",
   "id": "5abf92e8",
   "metadata": {},
   "source": [
    "## Question 19- Write a Python program to convert a date of yyyy-mm-dd format to dd-mm-yyyy format."
   ]
  },
  {
   "cell_type": "code",
   "execution_count": 338,
   "id": "07442b73",
   "metadata": {},
   "outputs": [
    {
     "name": "stdout",
     "output_type": "stream",
     "text": [
      "Please enter a date in yyyy-mm-dd format or enter 'stop' to end date formatting: 2020-12-47\n",
      "The date in dd-mm-yyyy format is: 47-12-2020\n",
      "Please enter a date in yyyy-mm-dd format or enter 'stop' to end date formatting: stop\n",
      "Thanks, Loop stopped.\n"
     ]
    }
   ],
   "source": [
    "import re\n",
    "# create a function to convert date format from yyyy-mm-dd to dd-mm-yyyy.\n",
    "# Pattern starts to search a string for 4 digits (\\d{4}) followed by a hyphen \n",
    "# and 2 digits (\\d{2}) followed by a hyphen and 2 digits (\\d{2}). This is indexed (1), (2), (3)\n",
    "# match variable saves what the pattern finds.\n",
    "def date_format(date):\n",
    "    pattern = r'(\\d{4})-(\\d{2})-(\\d{2})'\n",
    "    match = re.match(pattern, date)\n",
    "# create a loop to check the input string. When new_date is match\n",
    "# the pattern of the string is reorganised based on the indexing of the pattern.\n",
    "# so to reverse the date indexes (3),(2),(1)  \n",
    "    if match:\n",
    "        new_date = f\"{match.group(3)}-{match.group(2)}-{match.group(1)}\"\n",
    "        return new_date\n",
    "    else:\n",
    "        return \"Invalid date format\"\n",
    "# stop loop boolean is essential to prevent an infinite loop occuring\n",
    "stop_loop = False\n",
    "# This loop prompts the user for an input, the input if in the correct format will be converted.\n",
    "while not stop_loop:\n",
    "    user_input = input(\"Please enter a date in yyyy-mm-dd format or enter 'stop' to end date formatting: \")\n",
    "# if user types stop loop will discontinue, if date is input user will be prompted again.    \n",
    "    if user_input.lower() == 'stop':\n",
    "        stop_loop = True\n",
    "        print(\"Thanks, Loop stopped.\")\n",
    "    else:\n",
    "        converted_date = date_format(user_input)\n",
    "        print(f\"The date in dd-mm-yyyy format is: {converted_date}\")"
   ]
  },
  {
   "cell_type": "markdown",
   "id": "826d44db",
   "metadata": {},
   "source": [
    "## Question 20- Create a function in python to find all decimal numbers with a precision of 1 or 2 in a string. The use of the re.compile() method is mandatory.\n",
    "#### Sample Text: \"01.12 0132.123 2.31875 145.8 3.01 27.25 0.25\"\n",
    "#### Expected Output: ['01.12', '145.8', '3.01', '27.25', '0.25']\n"
   ]
  },
  {
   "cell_type": "code",
   "execution_count": 339,
   "id": "43d73c7a",
   "metadata": {},
   "outputs": [
    {
     "name": "stdout",
     "output_type": "stream",
     "text": [
      "Decimal numbers with precision of 1 or 2 found in the text:\n",
      "['01.12', '145.8', '3.01', '27.25', '0.25']\n"
     ]
    }
   ],
   "source": [
    "import re\n",
    "# create a function to find decimal numbers followed by 1 or 2 decimal places. Compile will decrease \n",
    "# the decimal spaces by using a pattern combined with  findall which will search the string for \n",
    "# numbers and specified in the pattern. \\b looks for a boundary, \\d+ matches 1 or more digits, \\. \n",
    "# matches the decimal point, \\d{1,2} matches 1 or 2 digits after the decimal point, \\b ends the boundary\n",
    "def find_decimal_numbers(sampletext):\n",
    "    pattern = re.compile(r'\\b\\d+\\.\\d{1,2}\\b')\n",
    "    decimal_numbers = pattern.findall(sampletext)\n",
    "    return decimal_numbers\n",
    "\n",
    "#create a variable with the numbers in sample text, create decimal_numbers variable = using function\n",
    "# print out sampletext results\n",
    "sampletext =  \"01.12 0132.123 2.31875 145.8 3.01 27.25 0.25\"\n",
    "decimal_numbers = find_decimal_numbers(sampletext)\n",
    "print(\"Decimal numbers with precision of 1 or 2 found in the text:\")\n",
    "print(decimal_numbers)"
   ]
  },
  {
   "cell_type": "markdown",
   "id": "f4cbc92f",
   "metadata": {},
   "source": [
    "## Question 21- Write a Python program to separate and print the numbers and their position of a given string."
   ]
  },
  {
   "cell_type": "code",
   "execution_count": 341,
   "id": "523eab43",
   "metadata": {},
   "outputs": [
    {
     "name": "stdout",
     "output_type": "stream",
     "text": [
      "Numbers found in sample text:\n",
      "['23', '2', '401', '2', '15']\n",
      "\n",
      "Positions in sample text:\n",
      "[15, 32, 50, 101, 105]\n"
     ]
    }
   ],
   "source": [
    "import re\n",
    "# create a function using re to search for numbers using findall  pattern, \\b for the boundary,\n",
    "# \\d+ to look any digits, (?= looks at a string to see if it can extract a number, [^\\d]and breaksdown\n",
    "# the substring returning any digits and skipping a character)\n",
    "# re.finditer \\b starts the boundary to find \\d+ looks for digits, (?+[^\\d]) to look in the pattern for where \n",
    "# the digits occur so findall can divide from the alphabetic characters to return information about \n",
    "# the positions of the numbers.\n",
    "def find_numbers_with_positions(text):\n",
    "    numbers = re.findall(r'\\b\\d+(?=[^\\d])', text)\n",
    "    positions = [m.start() for m in re.finditer(r'\\b\\d+(?=[^\\d])', text)]\n",
    "    \n",
    "    return numbers, positions\n",
    "\n",
    "# Sample text\n",
    "sample_text = \"The runner ran 23 miles, he had 2 stops and drank 401ml of water reaching a personal best of minutes 2hr 15  \"\n",
    "# call variables for the function to process with sample text variable\n",
    "numbers, positions = find_numbers_with_positions(sample_text)\n",
    "# print the outputs of the function\n",
    "print(\"Numbers found in sample text:\")\n",
    "print(numbers)\n",
    "\n",
    "print(\"\\nPositions in sample text:\")\n",
    "print(positions)"
   ]
  },
  {
   "cell_type": "markdown",
   "id": "ac39d6df",
   "metadata": {},
   "source": [
    "## Question 22- Write a regular expression in python program to extract maximum/largest numeric value from a string.\n",
    "#### Sample Text:  'My marks in each semester are: 947, 896, 926, 524, 734, 950, 642'\n",
    "#### Expected Output: 950\n"
   ]
  },
  {
   "cell_type": "code",
   "execution_count": 88,
   "id": "1fb5a084",
   "metadata": {},
   "outputs": [
    {
     "name": "stdout",
     "output_type": "stream",
     "text": [
      "950\n"
     ]
    }
   ],
   "source": [
    "import re\n",
    "# this is an easier one! - using the variable 'text' and creating the variable numbers to perform the\n",
    "# re.findall method on text, using the pattern \\d+ for any digits within the text variable, then \n",
    "# performing the new variable max_number comprised of the digits in 'text' where 'map' checks the values \n",
    "# and converts them into integers. Then max  finds the highest value in the list.\n",
    "text = 'My marks in each semester are: 947, 896, 926, 524, 734, 950, 642'\n",
    "numbers = re.findall(r'\\d+', text)\n",
    "max_number = max(map(int, numbers))\n",
    "\n",
    "# prints the finding of max_number \n",
    "print(max_number)"
   ]
  },
  {
   "cell_type": "markdown",
   "id": "7a7a42c6",
   "metadata": {},
   "source": [
    "## Question 23- Create a function in python to insert spaces between words starting with capital letters.\n",
    "#### Sample Text: “RegularExpressionIsAnImportantTopicInPython\"\n",
    "#### Expected Output: Regular Expression Is An Important Topic In Python\n"
   ]
  },
  {
   "cell_type": "code",
   "execution_count": 342,
   "id": "798257d7",
   "metadata": {},
   "outputs": [
    {
     "name": "stdout",
     "output_type": "stream",
     "text": [
      "Regular Exprssion Is An Important Topic In Python\n"
     ]
    }
   ],
   "source": [
    "import re\n",
    "# create the function insertingspace(text) using re.sub to analyse the characters with\n",
    "# lowercase ([a-z]) and calling them \\1, then looking for uppercase ([A-Z]) and calling \\2. Now the text is \n",
    "# ready to substitute/insert a space via r'\\1 \\2' , being careful with the spacing used in ''\\1\\2'text\n",
    "def insertingspace(text):\n",
    "   \n",
    "    text = re.sub(r'([a-z])([A-Z])', r'\\1 \\2', text)\n",
    "    # return the function\n",
    "    return text\n",
    "# create the sample text variable,\n",
    "# combine the function with sample text20 to create Expected_Output variable, print Expected Output\n",
    "sample_text20 = \"RegularExprssionIsAnImportantTopicInPython\"\n",
    "Expected_Output = insertingspace(sample_text20)\n",
    "print(Expected_Output)"
   ]
  },
  {
   "cell_type": "markdown",
   "id": "f9e68438",
   "metadata": {},
   "source": [
    "## Question 24- Python regex to find sequences of one upper case letter followed by lower case letters"
   ]
  },
  {
   "cell_type": "code",
   "execution_count": 143,
   "id": "93ad5b62",
   "metadata": {},
   "outputs": [
    {
     "name": "stdout",
     "output_type": "stream",
     "text": [
      "['This', 'Lp', 'Lo', 'Lon', 'Don', 'London', 'Piccadilly', 'Leicester', 'Square', 'Hyde', 'Park', 'Corner']\n"
     ]
    }
   ],
   "source": [
    "import re\n",
    "# create a variable for the sequence of upper case letters followed by lower case letters, this has\n",
    "# mix of combinations of cases\n",
    "text = \"This a sequence of letters, names, addresses - SW16 9Lp oL LL Lo LonDon London has as a street called Piccadilly, it connects to Leicester Square and Hyde Park Corner.\" \n",
    "\n",
    "#create a variable for the findall pattern, first capturing the uppercase characters[A-Z], \n",
    "#then the [a-z]+ joins a lower case character with the uppercase, looking within the text variable \n",
    "sequences = re.findall (r'[A-Z][a-z]+', text)\n",
    "# print the results of sequences variable\n",
    "print(sequences)"
   ]
  },
  {
   "cell_type": "markdown",
   "id": "c6142cd1",
   "metadata": {},
   "source": [
    "## Question 25- Write a Python program to remove continuous duplicate words from Sentence using Regular Expression.\n",
    "#### Sample Text: \"Hello hello world world\"\n",
    "#### Expected Output: Hello hello world\n"
   ]
  },
  {
   "cell_type": "code",
   "execution_count": 351,
   "id": "e8a9f803",
   "metadata": {},
   "outputs": [
    {
     "name": "stdout",
     "output_type": "stream",
     "text": [
      "Hello hello world\n"
     ]
    }
   ],
   "source": [
    "import re\n",
    "# create a function to remove duplicate words from a sentence.\n",
    "# Use the .sub to substitute the repeating characters seperated by whitespace with only\n",
    "# the first occurence of the characters. \\b matches the beginning of the word, \n",
    "# (\\w+) captures the characters of the word, (\\s+\\1) matches how many occurences of the\n",
    "# spaces and captured word, \\b ends the word boundary, r'\\1' replaces the matching word \n",
    "# with the first occurence substituting the duplicates and aware of being able to insert a whitespace\n",
    "def remove_duplicate_words(text):\n",
    "    \n",
    "    adjusted_text = re.sub(r'\\b(\\w+)(\\s+\\1)+\\b', r'\\1', text)\n",
    "    return adjusted_text\n",
    "# function complete, use sample_text variable combined with output_text variable using \n",
    "# function to remove duplicates \n",
    "sample_text = \"Hello hello world world\"\n",
    "adjusted_text = remove_duplicate_words(sample_text)\n",
    "print(adjusted_text)"
   ]
  },
  {
   "cell_type": "markdown",
   "id": "0fdbbe1f",
   "metadata": {},
   "source": [
    "## Question 26-  Write a python program using RegEx to accept string ending with alphanumeric character."
   ]
  },
  {
   "cell_type": "code",
   "execution_count": 352,
   "id": "5c54a49e",
   "metadata": {},
   "outputs": [
    {
     "name": "stdout",
     "output_type": "stream",
     "text": [
      "Enter a string (type 'stop' to end): scum!\n",
      "Declined, the string does not end with an alphanumeric character.\n",
      "Enter a string (type 'stop' to end): scum\n",
      "Accepted, the string ends with an alphanumeric character.\n",
      "Enter a string (type 'stop' to end): ABC\n",
      "Accepted, the string ends with an alphanumeric character.\n",
      "Enter a string (type 'stop' to end): STOP\n",
      "Loop stopped. Thank you!\n"
     ]
    }
   ],
   "source": [
    "import re \n",
    "# create a function to accept string ending with alphanumeric character. A very simple pattern \n",
    "# compared to earlier questions. The pattern begins with \\w to match any number or digit and $ follows\n",
    "# to make the pattern match the end of the string\n",
    "# re.search looks for a pattern and a string to look at. In this case we need a loop as we will be \n",
    "# inputting data. So if the function as part of a boolean loop creates a program needing user input.\n",
    "def check_ending_alphanumeric(text):\n",
    "    pattern = r'\\w$'  \n",
    "    if re.search(pattern, text):\n",
    "        return True\n",
    "    else:\n",
    "        return False\n",
    "# If true pattern can move to next step\n",
    "stop_loop = False  \n",
    "# creating the input loop, stop is essential as the loop crashes the kernel\n",
    "while not stop_loop:\n",
    "    input_text = input(\"Enter a string (type 'stop' to end): \")\n",
    "# if input matches pattern true or false user will be prompted again until stop is used. Then \n",
    "# kernel will have to be run again. .lower used to allow for mixed case inputs\n",
    "    if input_text.lower() == 'stop':\n",
    "        stop_loop = True\n",
    "        print(\"Loop stopped. Thank you!\") # use any phrase\n",
    "    else: # the part we've been waiting for - string checked for alphanumeric data\n",
    "        if check_ending_alphanumeric(input_text):\n",
    "            print(\"Accepted, the string ends with an alphanumeric character.\")\n",
    "        else:\n",
    "            print(\"Declined, the string does not end with an alphanumeric character.\")\n",
    "\n",
    "# DON'T FORGET To WRITE STOP!\n",
    "    \n",
    "   "
   ]
  },
  {
   "cell_type": "markdown",
   "id": "64fa17ce",
   "metadata": {},
   "source": [
    "## Question 27-Write a python program using RegEx to extract the hashtags.\n",
    "#### Sample Text:  \"\"\"RT @kapil_kausik: #Doltiwal I mean #xyzabc is \"hurt\" by #Demonetization as the same has rendered USELESS <ed><U+00A0><U+00BD><ed><U+00B1><U+0089> \"acquired funds\" No wo\"\"\"\n",
    "#### Expected Output: ['#Doltiwal', '#xyzabc', '#Demonetization']\n"
   ]
  },
  {
   "cell_type": "code",
   "execution_count": 233,
   "id": "0a3f39a8",
   "metadata": {},
   "outputs": [
    {
     "name": "stdout",
     "output_type": "stream",
     "text": [
      "Extracted Hashtags:\n",
      "['#Doltiwal', '#xyzabc', '#Demonetization']\n"
     ]
    }
   ],
   "source": [
    "import re\n",
    "# create the function 'extract_hashtags' and pass sample_text27 through the pattern. \n",
    "# New variable hashtags uses findall to look for '#\\w+ (a word beginning with # and\n",
    "# capturing the following characters until a whitespace)\n",
    "def extract_hashtags(sample_text27):\n",
    "    hashtags = re.findall(r'#\\w+', sample_text27)\n",
    "    return hashtags\n",
    "\n",
    "# sample text containing #\n",
    "# variable containing the function and the sample text\n",
    "# print the result\n",
    "\n",
    "sample_text27 = \"\"\"RT @kapil_kausik: #Doltiwal I mean #xyzabc is \"hurt\" by #Demonetization as the same has rendered USELESS <U+00A0><U+00BD><U+00B1><U+0089> \"acquired funds\" No wo\"\"\"\n",
    "extracted_hashtags = extract_hashtags(sample_text27)\n",
    "\n",
    "print(\"Extracted Hashtags:\")\n",
    "print(extracted_hashtags)"
   ]
  },
  {
   "cell_type": "markdown",
   "id": "cdbe4235",
   "metadata": {},
   "source": [
    "## Question 28- Write a python program using RegEx to remove <U+..> like symbols\n",
    "#### Check the below sample text, there are strange symbols something of the sort <U+..> all over the place. You need to come up with a general Regex expression that will cover all such symbols.\n",
    "#### Sample Text: \"@Jags123456 Bharat band on 28??<ed><U+00A0><U+00BD><ed><U+00B8><U+0082>Those who  are protesting #demonetization  are all different party leaders\"\n",
    "#### Expected Output: @Jags123456 Bharat band on 28??<ed><ed>Those who  are protesting #demonetization  are all different party leaders\n"
   ]
  },
  {
   "cell_type": "code",
   "execution_count": 254,
   "id": "7516c042",
   "metadata": {},
   "outputs": [
    {
     "name": "stdout",
     "output_type": "stream",
     "text": [
      "Cleaned Text:\n",
      "@Jags123456 Bharat band on 28??Those who are protesting #demonetization are all different party leaders\n"
     ]
    }
   ],
   "source": [
    "import re\n",
    "# create a function called 'removeUlikesymbols' and pass it through the substitute pattern '<U\\+\\w+>'\n",
    "# to look for the < followed by a U + any characters after until finding the > and then substituting \n",
    "# the symbols for ''.\n",
    "def removeUlikesymbols(text):\n",
    "    cleaned_text28 = re.sub(r'<U\\+\\w+>', '', text)\n",
    "    return cleaned_text28\n",
    "\n",
    "# create the variable containing the string\n",
    "# create variable for cleaned_text28 = combining the function with the sample text\n",
    "\n",
    "sample_text28 = \"@Jags123456 Bharat band on 28??<U+00A0><U+00BD><U+00B8><U+0082>Those who are protesting #demonetization are all different party leaders\"\n",
    "cleaned_text28 = removeUlikesymbols(sample_text28)\n",
    "\n",
    "# print the result\n",
    "\n",
    "print(\"Cleaned Text:\")\n",
    "print(cleaned_text28)"
   ]
  },
  {
   "cell_type": "markdown",
   "id": "de46c11f",
   "metadata": {},
   "source": [
    "## Question 29- Write a python program to extract dates from the text stored in the text file.\n",
    "#### Sample Text: Ron was born on 12-09-1992 and he was admitted to school 15-12-1999.\n",
    "#### Note- Store this sample text in the file and then extract dates.\n"
   ]
  },
  {
   "cell_type": "code",
   "execution_count": 353,
   "id": "f52f74dc",
   "metadata": {},
   "outputs": [
    {
     "name": "stdout",
     "output_type": "stream",
     "text": [
      "12-09-1992\n",
      "15-12-1999\n"
     ]
    }
   ],
   "source": [
    "import re\n",
    "\n",
    "# with handles opening the text file 'sample_text29'. Create the variable 'text' to store the sample text.\n",
    "with open(r\"C:\\Users\\GaryM\\Documents\\sample_text29.txt\") as file:\n",
    "    text = file.read()\n",
    "\n",
    "# create the pattern to search for the dates in the stored in the text file. '\\b starts the boundary\n",
    "# to search within, then looking for digits numbering \\d{2} - seperated by a hyphen, again looking for 2\n",
    "# digits \\d{2}' and finally looking for 4 digits \\d{4} and ending the boundary to look for with \\b\n",
    "\n",
    "pattern = r'\\b\\d{2}-\\d{2}-\\d{4}\\b'\n",
    "\n",
    "# Find all dates in the text using the regular expression\n",
    "# create the variable extracted_dates\n",
    "extracted_dates = re.findall(pattern, text)\n",
    "\n",
    "# Print the extracted dates\n",
    "for date in extracted_dates:\n",
    "    print(date)"
   ]
  },
  {
   "cell_type": "markdown",
   "id": "91f137ea",
   "metadata": {},
   "source": [
    "## Question 30- Create a function in python to remove all words from a string of length between 2 and 4.\n",
    "#### The use of the re.compile() method is mandatory.\n",
    "#### Sample Text: \"The following example creates an ArrayList with a capacity of 50 elements. 4 elements are then added to the ArrayList and the ArrayList is trimmed accordingly.\"\n",
    "#### Expected Output:  following example creates ArrayList a capacity elements. 4 elements added ArrayList ArrayList trimmed accordingly.\n"
   ]
  },
  {
   "cell_type": "code",
   "execution_count": 360,
   "id": "1002c212",
   "metadata": {},
   "outputs": [
    {
     "name": "stdout",
     "output_type": "stream",
     "text": [
      "following example creates ArrayList a capacity elements. 4 elements added ArrayList ArrayList trimmed accordingly.\n"
     ]
    }
   ],
   "source": [
    "import re\n",
    "# create a function to remove\n",
    "def remove_all_words_fromstring_lengths_2_to_4(input_string):\n",
    "    # Use compile to search string for words of length 2 to 4 characters. Looking at the string\n",
    "    # the pattern is \\b begin the boundary to look at the characters, \\w looks for words with lengths\n",
    "    # between\\w{2,4} 2 and 4 characters. \\b closes the boundary, this instance uses a space before ') \n",
    "    # to adjust compiled string correctly.\n",
    "    \n",
    "    pattern = re.compile(r'\\b\\w{2,4}\\b ')\n",
    "\n",
    "    # using substitute to remove compiled characters from the string and substitute with empty string''\n",
    "    result = pattern.sub('', input_string)\n",
    "\n",
    "    return result\n",
    "\n",
    "# Sample text\n",
    "sample_text = \"The following example creates an ArrayList with a capacity of 50 elements. 4 elements are then added to the ArrayList and the ArrayList is trimmed accordingly.\"\n",
    "\n",
    "# Create the variable to be printed and called output_text comparing the function with the sample text\n",
    "output_text = remove_words_of_length_2_to_4(sample_text)\n",
    "\n",
    "print(output_text)"
   ]
  },
  {
   "cell_type": "code",
   "execution_count": null,
   "id": "a9a6eb55",
   "metadata": {},
   "outputs": [],
   "source": []
  },
  {
   "cell_type": "code",
   "execution_count": null,
   "id": "12ac55a1",
   "metadata": {},
   "outputs": [],
   "source": []
  }
 ],
 "metadata": {
  "kernelspec": {
   "display_name": "Python 3 (ipykernel)",
   "language": "python",
   "name": "python3"
  },
  "language_info": {
   "codemirror_mode": {
    "name": "ipython",
    "version": 3
   },
   "file_extension": ".py",
   "mimetype": "text/x-python",
   "name": "python",
   "nbconvert_exporter": "python",
   "pygments_lexer": "ipython3",
   "version": "3.11.5"
  }
 },
 "nbformat": 4,
 "nbformat_minor": 5
}
