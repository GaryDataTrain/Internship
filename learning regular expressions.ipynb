{
 "cells": [
  {
   "cell_type": "markdown",
   "id": "d9516c3d",
   "metadata": {},
   "source": [
    "# Regular Expressions homework Gary Hickey"
   ]
  },
  {
   "cell_type": "markdown",
   "id": "accc1efc",
   "metadata": {},
   "source": [
    "## Question 1- Write a RegEx pattern in python program to check that a string contains only a certain set of characters (in this case a-z, A-Z and 0-9)"
   ]
  },
  {
   "cell_type": "code",
   "execution_count": 152,
   "id": "b2edee25",
   "metadata": {},
   "outputs": [
    {
     "name": "stdout",
     "output_type": "stream",
     "text": [
      "'space included' doesnt match pattern.\n",
      "'spaceexcluded' matches pattern.\n",
      "'COUNT' matches pattern.\n",
      "'Gary' matches pattern.\n",
      "'@dt.com' doesnt match pattern.\n",
      "'1234' matches pattern.\n",
      "'lowercase' matches pattern.\n",
      "'WoLpA5s' matches pattern.\n"
     ]
    }
   ],
   "source": [
    "import re\n",
    "\n",
    "def strings (s):\n",
    "    \n",
    "    pattern = r\"^[a-z, A-Z, 0-9]+$\"\n",
    "    \n",
    "    if re.match(pattern, s):\n",
    "        return True\n",
    "    else:\n",
    "        return False\n",
    "\n",
    "strings = [\"space included\", \"spaceexcluded\", \"COUNT\",\n",
    "           \"Gary\", \"@dt.com\", \"1234\", 'lowercase', 'WoLpA5s']\n",
    "\n",
    "for s in strings:\n",
    "    if check_valid_string (s):\n",
    "        print(f\"'{s}' matches pattern.\")\n",
    "    else:\n",
    "        print(f\"'{s}' doesnt match pattern.\")\n",
    "\n",
    "\n"
   ]
  },
  {
   "cell_type": "markdown",
   "id": "221271a6",
   "metadata": {},
   "source": [
    "## Question 2- Write a RegEx pattern that matches a string that has an a followed by zero or more b's\n"
   ]
  },
  {
   "cell_type": "code",
   "execution_count": 153,
   "id": "d15b41af",
   "metadata": {},
   "outputs": [
    {
     "name": "stdout",
     "output_type": "stream",
     "text": [
      "'a' matches the string.\n",
      "'ab' matches the string.\n",
      "'abb' matches the string.\n",
      "'ab1' matches the string.\n",
      "'1abbb' does not match the string.\n",
      "'2bac' does not match the string.\n",
      "'!ac' does not match the string.\n",
      "'abc' matches the string.\n"
     ]
    }
   ],
   "source": [
    "import re\n",
    "\n",
    "#define pattern\n",
    "pattern2 = r\"ab*\"\n",
    "\n",
    "#create string\n",
    "string_with_AB = [\"a\", \"ab\", \"abb\", \"ab1\", \"1abbb\", \"2bac\", \"!ac\", \"abc\"]\n",
    "\n",
    "#test string using match\n",
    "for s in string_with_AB:\n",
    "    if re.match(pattern2, s):\n",
    "        print(f\"'{s}' matches the string.\")\n",
    "    else:\n",
    "        print(f\"'{s}' does not match the string.\")\n"
   ]
  },
  {
   "cell_type": "markdown",
   "id": "c9dca26b",
   "metadata": {},
   "source": [
    "## Question 3-  Write a RegEx pattern that matches a string that has an a followed by one or more b's"
   ]
  },
  {
   "cell_type": "code",
   "execution_count": 154,
   "id": "6a1ef9e9",
   "metadata": {},
   "outputs": [
    {
     "name": "stdout",
     "output_type": "stream",
     "text": [
      "'a' does not match the string.\n",
      "'ab' matches the string.\n",
      "'Ab1' does not match the string.\n",
      "'1ab' does not match the string.\n",
      "'bA' does not match the string.\n",
      "'!abbc' does not match the string.\n",
      "'abc' matches the string.\n"
     ]
    }
   ],
   "source": [
    "import re\n",
    "#define pattern\n",
    "pattern3 = r'ab+'\n",
    "#create string\n",
    "string_with_AandB = [\"a\", \"ab\", \"Ab1\", \"1ab\", \"bA\", \"!abbc\", \"abc\"]\n",
    "\n",
    "#test string using match\n",
    "for s3 in string_with_AandB:\n",
    "    if re.match(pattern3, s3):\n",
    "        print(f\"'{s3}' matches the string.\")\n",
    "    else:\n",
    "        print(f\"'{s3}' does not match the string.\")\n",
    "\n",
    "\n"
   ]
  },
  {
   "cell_type": "markdown",
   "id": "2aa60a91",
   "metadata": {},
   "source": [
    "## Question 4- Write a RegEx pattern that matches a string that has an a followed by zero or one 'b'."
   ]
  },
  {
   "cell_type": "code",
   "execution_count": 155,
   "id": "26243253",
   "metadata": {},
   "outputs": [
    {
     "name": "stdout",
     "output_type": "stream",
     "text": [
      "'a' matches the string.\n",
      "'ab' matches the string.\n",
      "'Ab1' does not match the string.\n",
      "'1ab' matches the string.\n",
      "'bAb' does not match the string.\n",
      "'!abbc' matches the string.\n",
      "'abc' matches the string.\n",
      "'acb' matches the string.\n",
      "'access b string' matches the string.\n"
     ]
    }
   ],
   "source": [
    "# define pattern using ?\n",
    "pattern4 = r'ab?' \n",
    "\n",
    "#create string\n",
    "string_with_AZeroB_orOneB = [\"a\", \"ab\", \"Ab1\", \"1ab\", \"bAb\", \"!abbc\", \"abc\", \"acb\", \"access b string\"]\n",
    "\n",
    "#test string using match\n",
    "for s4 in string_with_AZeroB_orOneB:\n",
    "    if re.search(pattern4, s4):\n",
    "        print(f\"'{s4}' matches the string.\")\n",
    "    else:\n",
    "        print(f\"'{s4}' does not match the string.\")\n"
   ]
  },
  {
   "cell_type": "markdown",
   "id": "5f1eedcb",
   "metadata": {},
   "source": [
    "## Question 5- Write a RegEx pattern in python program that matches a string that has an a followed by three 'b'."
   ]
  },
  {
   "cell_type": "code",
   "execution_count": 156,
   "id": "496bf62c",
   "metadata": {},
   "outputs": [
    {
     "name": "stdout",
     "output_type": "stream",
     "text": [
      "'abbb' matches the pattern.\n",
      "'abb' does not match the pattern.\n",
      "'abbbb' does not match the pattern.\n",
      "'abc' does not match the pattern.\n",
      "'ac' does not match the pattern.\n"
     ]
    }
   ],
   "source": [
    "#define pattern using {} with \\b for maximum of 3b\n",
    "pattern5 = r'ab{3}\\b'\n",
    "\n",
    "# Test the pattern with some example strings\n",
    "string_with_a_followedby3b = [\"abbb\", \"abb\", \"abbbb\", \"abc\", \"ac\"]\n",
    "\n",
    "for s5 in string_with_a_followedby3b:\n",
    "    if re.match(pattern5, s5):\n",
    "        print(f\"'{s5}' matches the pattern.\")\n",
    "    else:\n",
    "        print(f\"'{s5}' does not match the pattern.\")\n",
    "\n"
   ]
  },
  {
   "cell_type": "markdown",
   "id": "a01c67b5",
   "metadata": {},
   "source": [
    "## Question 6- Write a RegEx pattern in python program that matches a string that has an a followed by two to three 'b'."
   ]
  },
  {
   "cell_type": "code",
   "execution_count": 157,
   "id": "d5ffab6d",
   "metadata": {},
   "outputs": [
    {
     "name": "stdout",
     "output_type": "stream",
     "text": [
      "'abbb' matches the pattern.\n",
      "'abb' matches the pattern.\n",
      "'abbbb' does not match the pattern.\n",
      "'abc' does not match the pattern.\n",
      "'ac' does not match the pattern.\n"
     ]
    }
   ],
   "source": [
    "#define pattern using {} with \\b for maximum of 3b\n",
    "pattern6 = r'ab{2,3}\\b'\n",
    "\n",
    "# create a string\n",
    "string_with_a_followedby2or3b = [\"abbb\", \"abb\", \"abbbb\", \"abc\", \"ac\"]\n",
    "\n",
    "# Test the pattern with the example string\n",
    "for s6 in string_with_a_followedby2or3b:\n",
    "    if re.match(pattern6, s6):\n",
    "        print(f\"'{s6}' matches the pattern.\")\n",
    "    else:\n",
    "        print(f\"'{s6}' does not match the pattern.\")\n"
   ]
  },
  {
   "cell_type": "markdown",
   "id": "bdfa0faf",
   "metadata": {},
   "source": [
    "## Question 7- Write a Python program that matches a string that has an 'a' followed by anything, ending in 'b'."
   ]
  },
  {
   "cell_type": "code",
   "execution_count": 158,
   "id": "bf306b7a",
   "metadata": {},
   "outputs": [
    {
     "name": "stdout",
     "output_type": "stream",
     "text": [
      "'a bib' matches the pattern.\n",
      "'a bit' does not match the pattern.\n",
      "'the bib' does not match the pattern.\n",
      "'ab' matches the pattern.\n",
      "'grab' matches the pattern.\n",
      "'grade b' matches the pattern.\n",
      "'ac' does not match the pattern.\n"
     ]
    }
   ],
   "source": [
    "#define pattern using {} with  for anything ending in 'b'with $,\n",
    "# *looks for a and b in the string\n",
    "pattern7 = r'.*a.*b$'\n",
    "\n",
    "# create a string\n",
    "string_that_has_a_followedby_anything_endingb = [\"a bib\", \"a bit\", \"the bib\", \"ab\", \"grab\", \"grade b\", \"ac\"]\n",
    "\n",
    "# Test the pattern with the example string\n",
    "for s7 in string_that_has_a_followedby_anything_endingb:\n",
    "    if re.match(pattern7, s7):\n",
    "        print(f\"'{s7}' matches the pattern.\")\n",
    "    else:\n",
    "        print(f\"'{s7}' does not match the pattern.\")\n"
   ]
  },
  {
   "cell_type": "markdown",
   "id": "d78eced1",
   "metadata": {},
   "source": [
    "## Question 8- Write a RegEx pattern in python program that matches a word at the beginning of a string."
   ]
  },
  {
   "cell_type": "code",
   "execution_count": 159,
   "id": "c52138e8",
   "metadata": {},
   "outputs": [
    {
     "name": "stdout",
     "output_type": "stream",
     "text": [
      "'Hello' does not start with 'see'.\n",
      "'goodbye' does not start with 'see'.\n",
      "'see you again' starts with 'see'.\n",
      "'how are you' does not start with 'see'.\n",
      "'see you soon' starts with 'see'.\n"
     ]
    }
   ],
   "source": [
    "# Define the RegEx pattern for matching word at beginning of string ^\\b\n",
    "pattern8 = r\"^{word}\\b\"\n",
    "    \n",
    "   \n",
    "# create some example strings. \n",
    "match_word_beginningofstring = [\"Hello\", \"goodbye\", \"see you again\", \"how are you\", \"see you soon\"]\n",
    "\n",
    "# define word \n",
    "word_to_match = \"see\"\n",
    "for s8 in match_word_beginningofstring:\n",
    "    if match_word_at_beginning(s8, word_to_match):\n",
    "        print(f\"'{s8}' starts with '{word_to_match}'.\")\n",
    "    else:\n",
    "        print(f\"'{s8}' does not start with '{word_to_match}'.\")\n",
    "\n"
   ]
  },
  {
   "cell_type": "markdown",
   "id": "df4b5bd6",
   "metadata": {},
   "source": [
    "## Question 9- Write a RegEx pattern in python program that matches a word at the end of a string."
   ]
  },
  {
   "cell_type": "code",
   "execution_count": 160,
   "id": "23f55771",
   "metadata": {},
   "outputs": [
    {
     "name": "stdout",
     "output_type": "stream",
     "text": [
      "'Hello' does not end with 'you'.\n",
      "'goodbye' does not end with 'you'.\n",
      "'see you again' does not end with 'you'.\n",
      "'how are you' ends with 'you'.\n",
      "'see you soon' does not end with 'you'.\n"
     ]
    }
   ],
   "source": [
    "# Define the RegEx pattern for matching word at end of string $\\b\n",
    "pattern9 = r\"${word}\\b\"\n",
    "    \n",
    "   \n",
    "# some example strings. \n",
    "match_word_endofstring = [\"Hello\", \"goodbye\", \"see you again\", \"how are you\", \"see you soon\"]\n",
    "\n",
    "# define word \n",
    "word_to_match = \"you\"\n",
    "\n",
    "#create check\n",
    "for s9 in match_word_endofstring:\n",
    "    if match_word_at_end(s9, word_to_match):\n",
    "        print(f\"'{s9}' ends with '{word_to_match}'.\")\n",
    "    else:\n",
    "        print(f\"'{s9}' does not end with '{word_to_match}'.\")\n",
    "\n",
    "\n",
    "\n",
    "\n",
    "\n"
   ]
  },
  {
   "cell_type": "markdown",
   "id": "18c1f2cb",
   "metadata": {},
   "source": [
    "## Question 10- Write a RegEx pattern in python program to find all words that are 4 digits long in a string.\n",
    "## Sample text- '01 0132 231875 1458 301 2725.'\n",
    "## Expected output- ['0132', '1458', '2725']"
   ]
  },
  {
   "cell_type": "code",
   "execution_count": 150,
   "id": "11d165bd",
   "metadata": {},
   "outputs": [
    {
     "name": "stdout",
     "output_type": "stream",
     "text": [
      "Expected output: ['0132', '1458', '2725']\n"
     ]
    }
   ],
   "source": [
    "# Define the pattern for four digits words in a string, \\b for boundaries, {4} for length of digits\n",
    "pattern10 = r'\\b\\d{4}\\b'\n",
    "\n",
    "# now we use the sample text \n",
    "sample_text = '01 0132 231875 1458 301 2725 word play.'\n",
    "    \n",
    "# Find all matches in the text\n",
    "matches = re.findall(pattern10, sample_text)\n",
    "    \n",
    "\n",
    "# Find four-digit words\n",
    "result = find_four_digit_words(sample_text)\n",
    "print(\"Expected output:\", result)\n"
   ]
  },
  {
   "cell_type": "code",
   "execution_count": null,
   "id": "39803def",
   "metadata": {},
   "outputs": [],
   "source": []
  },
  {
   "cell_type": "code",
   "execution_count": null,
   "id": "2c9caca1",
   "metadata": {},
   "outputs": [],
   "source": []
  },
  {
   "cell_type": "code",
   "execution_count": null,
   "id": "ae967af9",
   "metadata": {},
   "outputs": [],
   "source": []
  },
  {
   "cell_type": "code",
   "execution_count": null,
   "id": "37e79ce9",
   "metadata": {},
   "outputs": [],
   "source": []
  }
 ],
 "metadata": {
  "kernelspec": {
   "display_name": "Python 3 (ipykernel)",
   "language": "python",
   "name": "python3"
  },
  "language_info": {
   "codemirror_mode": {
    "name": "ipython",
    "version": 3
   },
   "file_extension": ".py",
   "mimetype": "text/x-python",
   "name": "python",
   "nbconvert_exporter": "python",
   "pygments_lexer": "ipython3",
   "version": "3.11.5"
  }
 },
 "nbformat": 4,
 "nbformat_minor": 5
}
