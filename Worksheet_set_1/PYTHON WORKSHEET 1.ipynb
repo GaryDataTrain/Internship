{
 "cells": [
  {
   "cell_type": "markdown",
   "id": "99efb177",
   "metadata": {},
   "source": [
    "# PYTHON WORKSHEET 1"
   ]
  },
  {
   "cell_type": "code",
   "execution_count": 26,
   "id": "449686aa",
   "metadata": {},
   "outputs": [
    {
     "name": "stdout",
     "output_type": "stream",
     "text": [
      "Enter a number (or enter 'stop' to stop): stop\n",
      "Exiting the program remember to press the stop button on the jupyter panel.\n"
     ]
    }
   ],
   "source": [
    "## create a function to begin factorial math (n) as start number, and math being\n",
    "## n * (n-1), as a loop until 0 is reached. For example 6x5x4x3x2x1=720. This math\n",
    "## is used in the loop\n",
    "def factorial(n):\n",
    "    if n == 0:\n",
    "        return 1\n",
    "    else:\n",
    "        return n * factorial(n - 1)\n",
    "\n",
    "## create a boolean loop variable (user_input) to prompt user to enter a number, being aware of the need \n",
    "## to stop the loop to prevent crashing the cell.\n",
    "while True:\n",
    "    user_input = input(\"Enter a number (or enter 'stop' to stop): \")\n",
    "    \n",
    "    if user_input.lower() == 'stop':\n",
    "        print(\"Exiting the program remember to press the stop button on the jupyter panel.\")\n",
    "        break\n",
    "\n",
    "## prompt user for a number again, and contained within the factorial function the \n",
    "## number is multiplied until it reaches 0. An output is printed and the user\n",
    "## is prompted for another number or stop\n",
    "    num = int(user_input)\n",
    "    \n",
    "    if num < 0:\n",
    "        print(\"Factorial does not exist for negative numbers.\")\n",
    "    elif num == 0:\n",
    "        print(\"The factorial of 0 is 1\")\n",
    "    else:\n",
    "        print(\"The factorial of\", num, \"is\", factorial(num))"
   ]
  },
  {
   "cell_type": "code",
   "execution_count": 29,
   "id": "7a157d5f",
   "metadata": {},
   "outputs": [
    {
     "name": "stdout",
     "output_type": "stream",
     "text": [
      "Enter a number (or enter 'stop' to stop): 2\n",
      "2 is a prime number.\n",
      "Enter a number (or enter 'stop' to stop): 11\n",
      "11 is a prime number.\n",
      "Enter a number (or enter 'stop' to stop): 10\n",
      "10 is a composite number.\n",
      "Enter a number (or enter 'stop' to stop): stop\n",
      "Exiting the program, remember to press stop button on jupyter notebook.\n"
     ]
    }
   ],
   "source": [
    "# create a function variable to look for prime numbers. 2 being the first prime\n",
    "# number. A for loop is made to check the number if the number is less than 2, and the \n",
    "# square root is used to break the number to its smallest factors and its nearest \n",
    "# integer.\n",
    "# next the loop will look for any more division until there are no more factors, i.e.\n",
    "# a prime number. The output proved True constructs the input loop\n",
    "def is_prime(num):\n",
    "    if num < 2:\n",
    "        return False\n",
    "    for i in range(2, int(num**0.5) + 1):\n",
    "        if num % i == 0:\n",
    "            return False\n",
    "    return True\n",
    "\n",
    "# this loop is used with the function to prompt user to input a number, also \n",
    "# prompting for a stop input to prevent the notebook from crashing\n",
    "while True:\n",
    "    num = input(\"Enter a number (or enter 'stop' to stop): \")\n",
    "    \n",
    "    if num.lower() == 'stop':\n",
    "        print(\"Exiting the program, remember to press stop button on jupyter notebook.\")\n",
    "        break\n",
    "    \n",
    "    num = int(num)\n",
    "    \n",
    "    if is_prime(num):\n",
    "        print(num, \"is a prime number.\")\n",
    "    else:\n",
    "        print(num, \"is a composite number.\")    "
   ]
  },
  {
   "cell_type": "code",
   "execution_count": 32,
   "id": "bd8d588b",
   "metadata": {},
   "outputs": [
    {
     "name": "stdout",
     "output_type": "stream",
     "text": [
      "Enter a string (or enter 'stop' to stop): 45654\n",
      "The string is a palindrome.\n",
      "Enter a string (or enter 'stop' to stop): 222222\n",
      "The string is a palindrome.\n",
      "Enter a string (or enter 'stop' to stop): 12222\n",
      "The string is not a palindrome.\n",
      "Enter a string (or enter 'stop' to stop): a car rac a\n",
      "The string is a palindrome.\n",
      "Enter a string (or enter 'stop' to stop): stop\n",
      "Exiting the program. Don't forget to press the stop button on jupyter notebook\n"
     ]
    }
   ],
   "source": [
    "# create the function to define a palindrome(a sequence of numbers or letters \n",
    "# that read the same from left to right) \n",
    "# create the variable and the methods used on that variable\n",
    "# Convert the string to lowercase for alphabet palindromes\n",
    "# Remove non-alphanumeric characters such as !£@\"  \".\n",
    "# join the characters into a new string looking for alpha-numeric data\n",
    "# then an expression is used to look at the string forwards and backwards,\n",
    "# [::-1] slices the string and the -1 extracts the data in reverse order\n",
    "\n",
    "def is_palindrome(s):\n",
    "    s = s.lower()  \n",
    "    s = ''.join(e for e in s if e.isalnum())  \n",
    "    return s == s[::-1] \n",
    "# create the input loop so the user can enter multiple strings.\n",
    "# include a stop option to prevent the cell from crashing\n",
    "while True:\n",
    "    string = input(\"Enter a string (or enter 'stop' to stop): \")\n",
    "    \n",
    "    if string.lower() == 'stop':\n",
    "        print(\"Exiting the program. Don't forget to press the stop button on jupyter notebook\")\n",
    "        break\n",
    "# create the output to confirm whether or not the function is proved true or false    \n",
    "    if is_palindrome(string):\n",
    "        print(\"The string is a palindrome.\")\n",
    "    else:\n",
    "        print(\"The string is not a palindrome.\")   "
   ]
  },
  {
   "cell_type": "code",
   "execution_count": 38,
   "id": "312f9295",
   "metadata": {},
   "outputs": [
    {
     "name": "stdout",
     "output_type": "stream",
     "text": [
      "Enter the length of the first side: 7\n",
      "Enter the length of the second side: 8\n",
      "The length of the third side of the right-angled triangle is: 10.63014581273465\n"
     ]
    }
   ],
   "source": [
    "# create the function to check for Pythagorean theorem to find the hypotenuse \n",
    "# of a right-angled triangle. Use math side1**2 to find the square root of side1,\n",
    "# and square root of side2 and add the squares of the pair. then the square root of\n",
    "# the sums of sides is used to calculate the side3\n",
    "\n",
    "def find_third_side(side1, side2):\n",
    "    side3 = (side1**2 + side2**2)**0.5\n",
    "    return side3\n",
    "\n",
    "# ask for the inputs to create the variables\n",
    "side1 = float(input(\"Enter the length of the first side: \"))\n",
    "side2 = float(input(\"Enter the length of the second side: \"))\n",
    "\n",
    "# Create the variable to hold result of user inputs \n",
    "third_side = find_third_side(side1, side2)\n",
    "# print result\n",
    "print(\"The length of the third side of the right-angled triangle is:\", third_side)"
   ]
  },
  {
   "cell_type": "code",
   "execution_count": 42,
   "id": "517241e7",
   "metadata": {},
   "outputs": [
    {
     "name": "stdout",
     "output_type": "stream",
     "text": [
      "Enter the length of the first side (or enter 'stop' to stop): 7\n",
      "Enter the length of the second side: 12\n",
      "The length of the third side of the right-angled triangle is: 13.892443989449804\n",
      "Enter the length of the first side (or enter 'stop' to stop): stop\n",
      "Exiting the program and remember to press stop on jupyter control panel.\n"
     ]
    }
   ],
   "source": [
    "# create the function to check for Pythagorean theorem to find the hypotenuse \n",
    "# of a right-angled triangle. Use math side1**2 to find the square root of side1,\n",
    "# and square root of side2 and add the squares of the pair. then the square root of\n",
    "# the sums of sides is used to calculate the side3\n",
    "\n",
    "def find_third_side(side1, side2):\n",
    "    side3 = (side1**2 + side2**2)**0.5\n",
    "    return side3\n",
    "# create the loop to ask for inputs or stop the loop with stop\n",
    "while True:\n",
    "    # Ask for the inputs to create the variables\n",
    "    side1_input = input(\"Enter the length of the first side (or enter 'stop' to stop): \")\n",
    "    \n",
    "    # Check if the user wants to stop\n",
    "    if side1_input.lower() == 'stop':\n",
    "        print(\"Exiting the program and remember to press stop on jupyter control panel.\")\n",
    "        break\n",
    "# create the variable to be used for pythagoreas\n",
    "    side1 = float(side1_input)\n",
    "    side2 = float(input(\"Enter the length of the second side: \"))\n",
    "\n",
    "    # Calculate the length of the third side\n",
    "    third_side = find_third_side(side1, side2)\n",
    "\n",
    "    # Print the result\n",
    "    print(\"The length of the third side of the right-angled triangle is:\", third_side)"
   ]
  },
  {
   "cell_type": "code",
   "execution_count": null,
   "id": "d9e66797",
   "metadata": {},
   "outputs": [],
   "source": [
    "\n",
    "def character_frequency(string):\n",
    "# using curly braces to create an empty dictionary to store the character frequencies\n",
    "    frequency = {}\n",
    "\n",
    "    # Counting the frequency of each character in the string\n",
    "    for char in string:\n",
    "        if char in frequency:\n",
    "            frequency[char] += 1\n",
    "        else:\n",
    "            frequency[char] = 1\n",
    "\n",
    "    # Printing the frequency of each character\n",
    "    for char, count in frequency.items():\n",
    "        print(f\"Character '{char}' appears {count} time(s) in the string.\")\n",
    "\n",
    "# Taking input from the user\n",
    "input_string = input(\"Enter a string: \")\n",
    "\n",
    "# Calling the function to calculate and print character frequencies\n",
    "character_frequency(input_string)\n"
   ]
  },
  {
   "cell_type": "code",
   "execution_count": null,
   "id": "06ca58a0",
   "metadata": {},
   "outputs": [],
   "source": [
    "# create the function to determine character frequency is a string\n",
    "def character_frequency(string):\n",
    "    # Using curly braces to create an empty dictionary to store the character frequencies\n",
    "    frequency = {}\n",
    "\n",
    "# create the loop counting the frequency of each character in the string\n",
    "# the characters in string are broken down into individual characters and counted\n",
    "# in increments of 1\n",
    "    for char in string:\n",
    "        if char in frequency:\n",
    "            frequency[char] += 1\n",
    "        else:\n",
    "            frequency[char] = 1\n",
    "\n",
    "# using this loop to print the frequency of each character using the .items method\n",
    "# to enable counting of the characters. {char} from the dictionary and {count} the \n",
    "# frequency.\n",
    "    for char, count in frequency.items():\n",
    "        print(f\"Character '{char}' appears {count} time(s) in the string.\")\n",
    "# so when a user is prompted for an input or to stop\n",
    "while True:\n",
    "    input_string = input(\"Enter a string (or enter 'stop' to stop): \")\n",
    "    \n",
    "    # break the loop with the stop keyword\n",
    "    if input_string.lower() == 'stop':\n",
    "        print(\"Exiting the program and don't forget to press the stop button on the control panel.\")\n",
    "        break\n",
    "\n",
    "    # finally combining function with the input.\n",
    "    character_frequency(input_string)"
   ]
  },
  {
   "cell_type": "code",
   "execution_count": null,
   "id": "5e82c7ea",
   "metadata": {},
   "outputs": [],
   "source": []
  }
 ],
 "metadata": {
  "kernelspec": {
   "display_name": "Python 3 (ipykernel)",
   "language": "python",
   "name": "python3"
  },
  "language_info": {
   "codemirror_mode": {
    "name": "ipython",
    "version": 3
   },
   "file_extension": ".py",
   "mimetype": "text/x-python",
   "name": "python",
   "nbconvert_exporter": "python",
   "pygments_lexer": "ipython3",
   "version": "3.11.5"
  }
 },
 "nbformat": 4,
 "nbformat_minor": 5
}
